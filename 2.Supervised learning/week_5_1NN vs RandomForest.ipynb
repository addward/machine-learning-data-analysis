{
 "cells": [
  {
   "cell_type": "code",
   "execution_count": 119,
   "metadata": {
    "scrolled": true
   },
   "outputs": [],
   "source": [
    "import numpy as np\n",
    "import matplotlib.pyplot as plt\n",
    "import sklearn.ensemble\n",
    "from sklearn.datasets import load_digits\n",
    "from sklearn.model_selection import train_test_split\n"
   ]
  },
  {
   "cell_type": "code",
   "execution_count": 120,
   "metadata": {},
   "outputs": [],
   "source": [
    "digits = load_digits()\n",
    "X_train, X_test, y_train, y_test = train_test_split(digits.data, digits.target, test_size = 0.25, shuffle = False)"
   ]
  },
  {
   "cell_type": "code",
   "execution_count": 121,
   "metadata": {},
   "outputs": [],
   "source": [
    "y_predictions = []\n",
    "for test_num in X_test:\n",
    "    rel_coords = X_train - test_num\n",
    "    metric = (rel_coords**2).sum(axis=1)\n",
    "    metric_class = np.concatenate([np.transpose([metric]), np.transpose([y_train])], axis = 1)\n",
    "    args = metric.argsort(axis = 0)\n",
    "    y_predictions.append(y_train[args[0]])"
   ]
  },
  {
   "cell_type": "code",
   "execution_count": 122,
   "metadata": {},
   "outputs": [
    {
     "name": "stdout",
     "output_type": "stream",
     "text": [
      "Failure rate for 1NN: 0.03778\n"
     ]
    }
   ],
   "source": [
    "answer1 = np.sum(y_test != np.array(y_predictions)) / float(y_test.size)\n",
    "print \"Failure rate for 1NN: {:.5f}\".format(answer1)"
   ]
  },
  {
   "cell_type": "code",
   "execution_count": 123,
   "metadata": {},
   "outputs": [],
   "source": [
    "file1 = open(\"week_5_1NN.txt\", \"w\")\n",
    "file1.write(\"{:.5f}\".format(answer1))\n",
    "file1.close()"
   ]
  },
  {
   "cell_type": "code",
   "execution_count": 124,
   "metadata": {},
   "outputs": [
    {
     "data": {
      "text/plain": [
       "RandomForestClassifier(bootstrap=True, class_weight=None, criterion='gini',\n",
       "            max_depth=None, max_features='auto', max_leaf_nodes=None,\n",
       "            min_impurity_decrease=0.0, min_impurity_split=None,\n",
       "            min_samples_leaf=1, min_samples_split=2,\n",
       "            min_weight_fraction_leaf=0.0, n_estimators=1000, n_jobs=None,\n",
       "            oob_score=False, random_state=None, verbose=0,\n",
       "            warm_start=False)"
      ]
     },
     "execution_count": 124,
     "metadata": {},
     "output_type": "execute_result"
    }
   ],
   "source": [
    "rfclassifier = sklearn.ensemble.RandomForestClassifier(n_estimators=1000)\n",
    "rfclassifier.fit(X_train, y_train)"
   ]
  },
  {
   "cell_type": "code",
   "execution_count": 125,
   "metadata": {},
   "outputs": [
    {
     "name": "stdout",
     "output_type": "stream",
     "text": [
      "Failure rate for Random forest with avaraging of 1000 trees: 0.06444\n"
     ]
    }
   ],
   "source": [
    "prediction = rfclassifier.predict(X_test)\n",
    "answer2    = (prediction != y_test).sum() / float(y_test.size)\n",
    "print \"Failure rate for Random forest with avaraging of 1000 trees: {:.5f}\".format(answer2)"
   ]
  },
  {
   "cell_type": "code",
   "execution_count": 126,
   "metadata": {},
   "outputs": [],
   "source": [
    "file2 = open(\"week_5_RandomForest.txt\", \"w\")\n",
    "file2.write(\"{:.5f}\".format(answer2))\n",
    "file2.close()"
   ]
  }
 ],
 "metadata": {
  "kernelspec": {
   "display_name": "Python 2",
   "language": "python",
   "name": "python2"
  },
  "language_info": {
   "codemirror_mode": {
    "name": "ipython",
    "version": 2
   },
   "file_extension": ".py",
   "mimetype": "text/x-python",
   "name": "python",
   "nbconvert_exporter": "python",
   "pygments_lexer": "ipython2",
   "version": "2.7.10"
  }
 },
 "nbformat": 4,
 "nbformat_minor": 2
}
