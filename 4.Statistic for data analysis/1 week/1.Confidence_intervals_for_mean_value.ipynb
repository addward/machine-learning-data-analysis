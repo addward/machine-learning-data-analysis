{
 "cells": [
  {
   "cell_type": "markdown",
   "metadata": {},
   "source": [
    "# Доверительные интервалы для среднего"
   ]
  },
  {
   "cell_type": "markdown",
   "metadata": {},
   "source": [
    "$$D(X+Y)=E[(X+Y -E(X+Y))^2]=E[(X - E(X) + Y - E(Y))^2]=D(X) + D(Y) + E[(X-E(X))\\cdot(Y-E(Y))]$$ <br/>\n",
    "$$D(\\bar{X}_n)=D(\\frac{\\sum_{i=1}^{n}}{n}) = \\frac{n \\cdot D(X)}{n^2}=\\frac{D(x)}{n}$$\n",
    "$$\\text{So if } X\\sim \\mathcal{N}(\\mu, \\sigma)\\text{, then confidence interval with parameter }\\alpha:$$<br/>\n",
    "$$\\mathcal{P}(\\bar{X}-\\mathcal{z}_{1-\\frac{\\alpha}{2}}\\sqrt{\\frac{D(X)}{n}}\\leq\\mu\\leq\\bar{X}+\n",
    "\\mathcal{z}_{1-\\frac{\\alpha}{2}}\\sqrt{\\frac{D(X)}{n}}) = 1-\\alpha$$"
   ]
  },
  {
   "cell_type": "markdown",
   "metadata": {},
   "source": [
    "## Task 1\n",
    "Пусть $X\\sim F(x)$ — случайная величина с произвольным распределением, неизвестным математическим ожиданием $\\mathbb{E}X$ и известной дисперсией $\\mathbb{D}X$. Как выглядит доверительный интервал для $\\mathbb{E}X$ с приближённым уровнем доверия $100(1-\\alpha)100$"
   ]
  },
  {
   "cell_type": "markdown",
   "metadata": {},
   "source": [
    "## Answer\n",
    "$\\bar{X}\\pm\\mathcal{z}_{1-\\frac{\\alpha}{2}}\\cdot\\sqrt{\\frac{D(X)}{n}}$"
   ]
  },
  {
   "cell_type": "markdown",
   "metadata": {},
   "source": [
    "## Task 2\n",
    "Для 61 большого города в Англии и Уэльсе известны средняя годовая смертность на 100000 населения (по данным 1958–1964) и концентрация кальция в питьевой воде (в частях на миллион). Чем выше концентрация кальция, тем жёстче вода. Города дополнительно поделены на северные и южные.<br/>\n",
    "**water.txt**<br/>\n",
    "Постройте 95% доверительный интервал для средней годовой смертности в больших городах. Чему равна его нижняя граница? Округлите ответ до 4 знаков после десятичной точки."
   ]
  },
  {
   "cell_type": "code",
   "execution_count": 128,
   "metadata": {},
   "outputs": [
    {
     "data": {
      "text/html": [
       "<div>\n",
       "<style scoped>\n",
       "    .dataframe tbody tr th:only-of-type {\n",
       "        vertical-align: middle;\n",
       "    }\n",
       "\n",
       "    .dataframe tbody tr th {\n",
       "        vertical-align: top;\n",
       "    }\n",
       "\n",
       "    .dataframe thead th {\n",
       "        text-align: right;\n",
       "    }\n",
       "</style>\n",
       "<table border=\"1\" class=\"dataframe\">\n",
       "  <thead>\n",
       "    <tr style=\"text-align: right;\">\n",
       "      <th></th>\n",
       "      <th>location</th>\n",
       "      <th>town</th>\n",
       "      <th>mortality</th>\n",
       "      <th>hardness</th>\n",
       "    </tr>\n",
       "  </thead>\n",
       "  <tbody>\n",
       "    <tr>\n",
       "      <th>0</th>\n",
       "      <td>South</td>\n",
       "      <td>Bath</td>\n",
       "      <td>1247</td>\n",
       "      <td>105</td>\n",
       "    </tr>\n",
       "    <tr>\n",
       "      <th>1</th>\n",
       "      <td>North</td>\n",
       "      <td>Birkenhead</td>\n",
       "      <td>1668</td>\n",
       "      <td>17</td>\n",
       "    </tr>\n",
       "    <tr>\n",
       "      <th>2</th>\n",
       "      <td>South</td>\n",
       "      <td>Birmingham</td>\n",
       "      <td>1466</td>\n",
       "      <td>5</td>\n",
       "    </tr>\n",
       "    <tr>\n",
       "      <th>3</th>\n",
       "      <td>North</td>\n",
       "      <td>Blackburn</td>\n",
       "      <td>1800</td>\n",
       "      <td>14</td>\n",
       "    </tr>\n",
       "    <tr>\n",
       "      <th>4</th>\n",
       "      <td>North</td>\n",
       "      <td>Blackpool</td>\n",
       "      <td>1609</td>\n",
       "      <td>18</td>\n",
       "    </tr>\n",
       "  </tbody>\n",
       "</table>\n",
       "</div>"
      ],
      "text/plain": [
       "  location        town  mortality  hardness\n",
       "0    South        Bath       1247       105\n",
       "1    North  Birkenhead       1668        17\n",
       "2    South  Birmingham       1466         5\n",
       "3    North   Blackburn       1800        14\n",
       "4    North   Blackpool       1609        18"
      ]
     },
     "execution_count": 128,
     "metadata": {},
     "output_type": "execute_result"
    }
   ],
   "source": [
    "import numpy as np\n",
    "import pandas as pnd\n",
    "from scipy import stats\n",
    "\n",
    "water = pnd.read_csv('water.txt', delimiter='\\t')\n",
    "water.head()"
   ]
  },
  {
   "cell_type": "code",
   "execution_count": 129,
   "metadata": {},
   "outputs": [
    {
     "name": "stdout",
     "output_type": "stream",
     "text": [
      "mean: 1524.1475409836066\n",
      "std: 187.6687539314571\n"
     ]
    }
   ],
   "source": [
    "mortality_mean=water['mortality'].mean()\n",
    "mortality_std =water['mortality'].std()\n",
    "print('mean: {}\\nstd: {}'.format(mortality_mean, mortality_std))"
   ]
  },
  {
   "cell_type": "code",
   "execution_count": 130,
   "metadata": {},
   "outputs": [
    {
     "name": "stdout",
     "output_type": "stream",
     "text": [
      "lbound: 1476.0833\n",
      "ubound: 1572.2117\n"
     ]
    }
   ],
   "source": [
    "alpha = 0.05\n",
    "n = water['mortality'].size\n",
    "print('lbound: {:.4f}\\nubound: {:.4f}'.format(\n",
    "    mortality_mean+stats.t.ppf(alpha/2, n - 1)*mortality_std/np.sqrt(n),\n",
    "    mortality_mean+stats.t.ppf(1-alpha/2, n - 1)*mortality_std/np.sqrt(n)\n",
    "    )\n",
    ")"
   ]
  },
  {
   "cell_type": "markdown",
   "metadata": {},
   "source": [
    "## Task 3\n",
    "На данных из предыдущего вопроса постройте 95% доверительный интервал для средней годовой смертности по всем южным городам. Чему равна его верхняя граница? Округлите ответ до 4 знаков после десятичной точки."
   ]
  },
  {
   "cell_type": "code",
   "execution_count": 131,
   "metadata": {},
   "outputs": [
    {
     "name": "stdout",
     "output_type": "stream",
     "text": [
      "mean: 1376.8076923076924\n",
      "std: 140.26917529686108\n"
     ]
    }
   ],
   "source": [
    "mortality_mean_south = water[water['location']=='South']['mortality'].mean()\n",
    "mortality_std_south = water[water['location']=='South']['mortality'].std()\n",
    "print('mean: {}\\nstd: {}'.format(mortality_mean_south, mortality_std_south))"
   ]
  },
  {
   "cell_type": "code",
   "execution_count": 132,
   "metadata": {},
   "outputs": [
    {
     "name": "stdout",
     "output_type": "stream",
     "text": [
      "lbound: 1320.1517\n",
      "ubound: 1433.4636\n"
     ]
    }
   ],
   "source": [
    "alpha = 0.05\n",
    "n_south = water[water['location']=='South']['mortality'].size\n",
    "print('lbound: {:.4f}\\nubound: {:.4f}'.format(\n",
    "    mortality_mean_south + stats.t.ppf(alpha/2, n_south - 1)*mortality_std_south/np.sqrt(n_south),\n",
    "    mortality_mean_south + stats.t.ppf(1-alpha/2, n_south - 1)*mortality_std_south/np.sqrt(n_south)\n",
    "    )\n",
    ")"
   ]
  },
  {
   "cell_type": "markdown",
   "metadata": {},
   "source": [
    "## Task 4\n",
    "На тех же данных постройте 95% доверительный интервал для средней годовой смертности по всем северным городам. Пересекается ли этот интервал с предыдущим? Как вы думаете, какой из этого можно сделать вывод?"
   ]
  },
  {
   "cell_type": "code",
   "execution_count": 133,
   "metadata": {},
   "outputs": [
    {
     "name": "stdout",
     "output_type": "stream",
     "text": [
      "mean: 1633.60\n",
      "std: 136.94\n"
     ]
    }
   ],
   "source": [
    "mortality_mean_north = water[water['location']=='North']['mortality'].mean()\n",
    "mortality_std_north = water[water['location']=='North']['mortality'].std()\n",
    "print('mean: {:.2f}\\nstd: {:.2f}'.format(mortality_mean_north, mortality_std_north))"
   ]
  },
  {
   "cell_type": "code",
   "execution_count": 134,
   "metadata": {},
   "outputs": [
    {
     "name": "stdout",
     "output_type": "stream",
     "text": [
      "lbound: 1586.5605\n",
      "ubound: 1680.6395\n"
     ]
    }
   ],
   "source": [
    "alpha = 0.05\n",
    "n_north = water[water['location']=='North']['mortality'].size\n",
    "print('lbound: {:.4f}\\nubound: {:.4f}'.format(\n",
    "    mortality_mean_north + stats.t.ppf(alpha/2, n_north - 1)*mortality_std_north/np.sqrt(n_north),\n",
    "    mortality_mean_north + stats.t.ppf(1-alpha/2, n_north - 1)*mortality_std_north/np.sqrt(n_north)\n",
    "    )\n",
    ")"
   ]
  },
  {
   "cell_type": "markdown",
   "metadata": {},
   "source": [
    "## Answer\n",
    "Интервалы не пересекаются $\\rightarrow$ смертность на севере и юге различается"
   ]
  },
  {
   "cell_type": "markdown",
   "metadata": {},
   "source": [
    "## Task 5\n",
    "Пересекаются ли 95% доверительные интервалы для средней жёсткости воды в северных и южных городах?"
   ]
  },
  {
   "cell_type": "code",
   "execution_count": 135,
   "metadata": {},
   "outputs": [
    {
     "name": "stdout",
     "output_type": "stream",
     "text": [
      "North\n",
      "mean: 30.40\n",
      "std: 26.13\n",
      "South\n",
      "mean: 69.77\n",
      "std: 40.36\n"
     ]
    }
   ],
   "source": [
    "hardness_mean_north = water[water['location']=='North']['hardness'].mean()\n",
    "hardness_std_north = water[water['location']=='North']['hardness'].std()\n",
    "\n",
    "hardness_mean_south = water[water['location']=='South']['hardness'].mean()\n",
    "hardness_std_south = water[water['location']=='South']['hardness'].std()\n",
    "\n",
    "print('North\\nmean: {:.2f}\\nstd: {:.2f}\\nSouth\\nmean: {:.2f}\\nstd: {:.2f}'.format(\n",
    "    hardness_mean_north, \n",
    "    hardness_std_north,\n",
    "    hardness_mean_south,\n",
    "    hardness_std_south\n",
    "    )\n",
    ")"
   ]
  },
  {
   "cell_type": "code",
   "execution_count": 136,
   "metadata": {},
   "outputs": [
    {
     "name": "stdout",
     "output_type": "stream",
     "text": [
      "North\n",
      "lbound: 21.7418\n",
      "ubound: 39.0582\n",
      "South\n",
      "lbound: 54.2554\n",
      "ubound: 85.2831\n"
     ]
    }
   ],
   "source": [
    "alpha = 0.05\n",
    "print('North\\nlbound: {:.4f}\\nubound: {:.4f}\\nSouth\\nlbound: {:.4f}\\nubound: {:.4f}'.format(\n",
    "    hardness_mean_north + stats.norm.ppf(alpha/2) * hardness_std_north / np.sqrt(n_north),\n",
    "    hardness_mean_north + stats.norm.ppf(1-alpha/2) * hardness_std_north / np.sqrt(n_north),\n",
    "    hardness_mean_south + stats.norm.ppf(alpha/2) * hardness_std_south / np.sqrt(n_south),\n",
    "    hardness_mean_south + stats.norm.ppf(1-alpha/2) * hardness_std_south / np.sqrt(n_south)\n",
    "    )\n",
    ")"
   ]
  },
  {
   "cell_type": "markdown",
   "metadata": {},
   "source": [
    "## Answer\n",
    "Не пересекаются"
   ]
  },
  {
   "cell_type": "markdown",
   "metadata": {},
   "source": [
    "## Task 6\n",
    "Вспомним формулу доверительного интервала для среднего нормально распределённой случайной величины с дисперсией $\\sigma^2$:<br/>\n",
    "$$\\bar{X}\\pm\\mathcal{z}_{1-\\frac{\\alpha}{2}}\\cdot\\frac{\\sigma}{\\sqrt{n}}$$\n",
    "При $\\sigma=1$ какой нужен объём выборки, чтобы на уровне доверия 95% оценить среднее с точностью $\\pm0.1$?"
   ]
  },
  {
   "cell_type": "code",
   "execution_count": 137,
   "metadata": {},
   "outputs": [
    {
     "data": {
      "text/plain": [
       "384.14588206941244"
      ]
     },
     "execution_count": 137,
     "metadata": {},
     "output_type": "execute_result"
    }
   ],
   "source": [
    "(stats.norm.ppf(1-0.05/2)/0.1)**2"
   ]
  },
  {
   "cell_type": "markdown",
   "metadata": {},
   "source": [
    "## Answer \n",
    "$n=385\\ge384.15$"
   ]
  },
  {
   "cell_type": "markdown",
   "metadata": {},
   "source": [
    "## Task 7\n",
    "Объём выборки, необходимый для построения доверительного интервала заданной ширины:\n",
    "* Увеличивается с уменьшением требуемой ширины\n",
    "* Уменьшается с ростом $\\alpha$\n",
    "* Увеличивается с ростом дисперсии $\\sigma^2$"
   ]
  }
 ],
 "metadata": {
  "kernelspec": {
   "display_name": "Python 3",
   "language": "python",
   "name": "python3"
  },
  "language_info": {
   "codemirror_mode": {
    "name": "ipython",
    "version": 3
   },
   "file_extension": ".py",
   "mimetype": "text/x-python",
   "name": "python",
   "nbconvert_exporter": "python",
   "pygments_lexer": "ipython3",
   "version": "3.7.6"
  }
 },
 "nbformat": 4,
 "nbformat_minor": 4
}
