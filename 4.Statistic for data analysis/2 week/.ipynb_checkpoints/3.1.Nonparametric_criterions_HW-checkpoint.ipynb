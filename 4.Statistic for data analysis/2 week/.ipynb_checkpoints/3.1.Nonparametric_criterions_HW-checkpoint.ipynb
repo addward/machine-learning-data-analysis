{
 "cells": [
  {
   "cell_type": "markdown",
   "metadata": {},
   "source": [
    "## Taks 1\n",
    "Какую из этих гипотез нельзя проверить с помощью критерия знаков?"
   ]
  },
  {
   "cell_type": "markdown",
   "metadata": {},
   "source": [
    "## Answer\n",
    "* (+) Гипотеза о равенстве средних в двух независимых выборках\n",
    "* (-) Гипотеза о равенстве средних в двух независимых выборках\n",
    "* (-) Гипотеза о равенстве средних в двух связанных выборках"
   ]
  },
  {
   "cell_type": "markdown",
   "metadata": {},
   "source": [
    "## Task 2\n",
    "Какую из этих гипотез о средних двух независимых выборок проверяет критерий Манна-Уитни?"
   ]
  },
  {
   "cell_type": "markdown",
   "metadata": {},
   "source": [
    "## Answer\n",
    "* (-) $H_0\\colon \\mathbb{E}X_1 = \\mathbb{E}X_2$ против $H_1\\colon \\mathbb{E}X_1 < \\neq > \\mathbb{E}X_2$\n",
    "* (-) $H_0\\colon P\\left(X_1>X_2\\right)=\\frac1{2}$ против $H_1\\colon P\\left(X_1>X_2\\right)<\\neq>\\frac1{2}$\n",
    "* (-) $H_0\\colon med X_1= med X_2$ против $H_1\\colon med X_1 <\\neq> med X_2$\n",
    "* (+) $H_0\\colon F_{X_1}(x)=F_{X_2}(x)$ против $H_1\\colon F_{X_1}(x) = F_{X_2}(x+\\Delta), \\Delta<\\neq>0$"
   ]
  },
  {
   "cell_type": "markdown",
   "metadata": {},
   "source": [
    "## Taks 3\n",
    "У вас есть две регрессионные модели и двадцать наборов данных. На обучающей подвыборке каждого набора вы настраиваете обе модели и считаете среднеквадратичную ошибку на тестовой подвыборке набора. Какими из этих критериев не стоит проверять гипотезу о том, что среднее качество регрессионных моделей одинаково?"
   ]
  },
  {
   "cell_type": "markdown",
   "metadata": {},
   "source": [
    "## Answer\n",
    "* (-) Критерий знаков\n",
    "* (-) Критерий знаковых рангов\n",
    "* (+) Критерий Стьюдента для двух независимых выборок\n",
    "* (+) Критерий Манна-Уитни\n",
    "* (+) Перестановочный критерий со статистикой $T=\\frac1{n}\\sum\\limits_{i=1}^n X_{1i}-\\frac1{n}\\sum\\limits_{i=1}^n X_{2i}$ \n",
    "и $C^n_{2n}$ вариантами расстановки объектов по выборкам\n",
    "* (-) Перестановочный критерий со статистикой $T=\\sum\\limits_{i=1}^n \\left(X_{1i}-X_{2i}\\right)$ \n",
    "и $2^n$ вариантами расстановки знаков у попарных разностей"
   ]
  },
  {
   "cell_type": "markdown",
   "metadata": {},
   "source": [
    "## Task 4\n",
    "Давайте вернёмся к данным выживаемости пациентов с лейкоцитарной лимфомой из видео про критерий знаков:\n",
    "\n",
    "$\\mathbf{49, 58, 75, 110, 112, 132, 151, 276, 281, 362^*}$\n",
    " \n",
    "\n",
    "Измерено остаточное время жизни с момента начала наблюдения (в неделях); звёздочка обозначает цензурирование сверху — исследование длилось 7 лет, и остаточное время жизни одного пациента, который дожил до конца наблюдения, неизвестно.\n",
    "\n",
    "Поскольку цензурировано только одно наблюдение, для проверки гипотезы $H_0\\colon med X = 200$\n",
    "на этих данных можно использовать критерий знаковых рангов — можно считать, что время дожития последнего пациента в точности равно 362, на ранг этого наблюдения это никак не повлияет.\n",
    "\n",
    "Критерием знаковых рангов проверьте эту гипотезу против двусторонней альтернативы, введите достигаемый уровень значимости, округлённый до четырёх знаков после десятичной точки."
   ]
  },
  {
   "cell_type": "markdown",
   "metadata": {},
   "source": [
    "## Answer\n",
    "* Assumption: set is simmetric vs median\n",
    "* null hypothesis: $med(X)=200=m_0$\n",
    "* alternative hypothesis: $med(X)\\neq200$\n",
    "* Wilkinson statistic: $W(X) = \\sum^{n}_{i=1}rank(|X_i-m_0|)\\cdot sign(X_i-m_0)$\n",
    "* null distribution: from table"
   ]
  },
  {
   "cell_type": "code",
   "execution_count": 2,
   "metadata": {},
   "outputs": [],
   "source": [
    "import numpy as np\n",
    "data      = np.array([49,58,75,110,112,132,151,276,281,362]) - 200\n",
    "data_diff = np.sort(np.abs(data))\n",
    "data_diff.sort()"
   ]
  },
  {
   "cell_type": "code",
   "execution_count": 3,
   "metadata": {},
   "outputs": [],
   "source": [
    "diff_to_rank = dict(zip(data_diff, range(1, len(data) + 1)))"
   ]
  },
  {
   "cell_type": "code",
   "execution_count": 14,
   "metadata": {},
   "outputs": [
    {
     "name": "stdout",
     "output_type": "stream",
     "text": [
      "Wilcoxon statistic value: -21.0000\n"
     ]
    }
   ],
   "source": [
    "rank  = np.array(list(map(lambda x: diff_to_rank[x], np.abs(data))))\n",
    "sign  = data > 0\n",
    "wstat = ((data>0) * rank - (data<0)*rank).sum()\n",
    "print('Wilcoxon statistic value: {:.4f}'.format(wstat))"
   ]
  },
  {
   "cell_type": "code",
   "execution_count": 15,
   "metadata": {},
   "outputs": [],
   "source": [
    "import itertools\n",
    "\n",
    "perm  = np.array([tuple(map(int, seq)) for seq in itertools.product('01', repeat=len(data))])\n",
    "distr = ((perm - .5)*2) @ rank"
   ]
  },
  {
   "cell_type": "code",
   "execution_count": 21,
   "metadata": {},
   "outputs": [
    {
     "data": {
      "text/plain": [
       "<BarContainer object of 35 artists>"
      ]
     },
     "execution_count": 21,
     "metadata": {},
     "output_type": "execute_result"
    },
    {
     "data": {
      "image/png": "[encoded data removed]",
      "text/plain": [
       "<Figure size 432x288 with 1 Axes>"
      ]
     },
     "metadata": {
      "needs_background": "light"
     },
     "output_type": "display_data"
    }
   ],
   "source": [
    "import matplotlib.pyplot as plt\n",
    "\n",
    "num, bins, _ = plt.hist(distr, bins=55)\n",
    "alt = np.argwhere(np.logical_or(bins[:-1] >= -wstat,\n",
    "                                bins[:-1] <= wstat)\n",
    "                 )\n",
    "plt.bar(((bins[:-1] - (bins[0] - bins[1]) / 2)[alt]).flatten(), \n",
    "        (num[alt]).flatten(), color = 'red', alpha=0.7, width=bins[0] - bins[1])"
   ]
  },
  {
   "cell_type": "code",
   "execution_count": 37,
   "metadata": {},
   "outputs": [
    {
     "name": "stdout",
     "output_type": "stream",
     "text": [
      "p-value: 0.2754\n"
     ]
    }
   ],
   "source": [
    "unique, proba = np.unique(distr, return_counts=True)\n",
    "proba = proba / len(distr)\n",
    "alt = np.argwhere(np.logical_or(unique > -wstat, unique < wstat))\n",
    "\n",
    "print('p-value: {:.4f}'.format(proba[alt].sum()))"
   ]
  },
  {
   "cell_type": "code",
   "execution_count": 38,
   "metadata": {},
   "outputs": [
    {
     "data": {
      "text/plain": [
       "WilcoxonResult(statistic=17.0, pvalue=0.2845026979112075)"
      ]
     },
     "execution_count": 38,
     "metadata": {},
     "output_type": "execute_result"
    }
   ],
   "source": [
    "from scipy import stats\n",
    "stats.wilcoxon(data)"
   ]
  },
  {
   "cell_type": "markdown",
   "metadata": {},
   "source": [
    "## Task 5\n",
    "В ходе исследования влияния лесозаготовки на биоразнообразие лесов острова Борнео собраны данные о количестве видов деревьев в 12 лесах, где вырубка не ведётся:\n",
    "\n",
    "22,22,15,13,19,19,18,20,21,13,13,15,\n",
    "\n",
    "и в 9 лесах, где идёт вырубка:\n",
    "\n",
    "17, 18, 18, 15, 12, 4, 14, 15, 10.\n",
    "\n",
    "Проверьте гипотезу о равенстве среднего количества видов в двух типах лесов против односторонней альтернативы о снижении биоразнообразия в вырубаемых лесах. Используйте ранговый критерий. Чему равен достигаемый уровень значимости? Округлите до четырёх знаков после десятичной точки."
   ]
  },
  {
   "cell_type": "code",
   "execution_count": 40,
   "metadata": {},
   "outputs": [],
   "source": [
    "x1 = [22,22,15,13,19,19,18,20,21,13,13,15]\n",
    "\n",
    "x2 = [17, 18, 18, 15, 12, 4, 14, 15, 10]\n",
    "\n",
    "def get_ranks(arr):\n",
    "    arr = np.array(arr)\n",
    "    arr.sort()\n",
    "    unique, counts = np.unique(arr, return_counts=True)\n",
    "\n",
    "    return dict(zip(unique, \n",
    "                    [(np.argwhere(arr == x) + 1).sum()/y for x,y in zip(unique, counts)]\n",
    "                   )\n",
    "               )\n",
    "    \n",
    "\n",
    "def get_permutations(n1, n2):\n",
    "    indexes = range(1, n1 + n2 + 1)\n",
    "    result = set(itertools.combinations(indexes, n1))\n",
    "    return result\n",
    "\n",
    "def get_rank_distr(n1, n2):\n",
    "    #sum = int((n1 + n2 + 1) / 2 * (n1 + n2))\n",
    "    ranks = np.array(list(map(sum, get_permutations(n1, n2))))\n",
    "    rank, count = np.unique(ranks, return_counts=True)\n",
    "    proba = count / len(ranks)\n",
    "    return rank, proba"
   ]
  },
  {
   "cell_type": "code",
   "execution_count": 41,
   "metadata": {},
   "outputs": [
    {
     "name": "stdout",
     "output_type": "stream",
     "text": [
      "159.0\n"
     ]
    },
    {
     "data": {
      "text/plain": [
       "<BarContainer object of 28 artists>"
      ]
     },
     "execution_count": 41,
     "metadata": {},
     "output_type": "execute_result"
    },
    {
     "data": {
      "image/png": "[encoded data removed]",
      "text/plain": [
       "<Figure size 432x288 with 1 Axes>"
      ]
     },
     "metadata": {
      "needs_background": "light"
     },
     "output_type": "display_data"
    }
   ],
   "source": [
    "num_to_rank = get_ranks(x1 + x2)\n",
    "stat = sum([num_to_rank[el] for el in x1])\n",
    "ranks, proba = get_rank_distr(len(x1), len(x2))\n",
    "alt = np.argwhere(ranks >= stat).flatten()\n",
    "\n",
    "print(stat)\n",
    "plt.bar(ranks, proba)\n",
    "plt.bar(ranks[alt], proba[alt], color='red', alpha=1)"
   ]
  },
  {
   "cell_type": "code",
   "execution_count": 42,
   "metadata": {},
   "outputs": [
    {
     "name": "stdout",
     "output_type": "stream",
     "text": [
      "p-value: 0.0292\n"
     ]
    }
   ],
   "source": [
    "print('p-value: {:.4f}'.format(proba[alt].sum()))"
   ]
  },
  {
   "cell_type": "code",
   "execution_count": 43,
   "metadata": {},
   "outputs": [
    {
     "data": {
      "text/plain": [
       "MannwhitneyuResult(statistic=27.0, pvalue=0.02900499272087373)"
      ]
     },
     "execution_count": 43,
     "metadata": {},
     "output_type": "execute_result"
    }
   ],
   "source": [
    "stats.mannwhitneyu(x1, x2)"
   ]
  },
  {
   "cell_type": "markdown",
   "metadata": {},
   "source": [
    "## Task 6\n",
    "28 января 1986 года космический шаттл \"Челленджер\" взорвался при взлёте. Семь астронавтов, находившихся на борту, погибли. В ходе расследования причин катастрофы основной версией была неполадка с резиновыми уплотнительными кольцами в соединении с ракетными ускорителями. Для 23 предшествовавших катастрофе полётов \"Челленджера\" известны температура воздуха и появление повреждений хотя бы у одного из уплотнительных колец.\n",
    "\n",
    "**challenger.txt**\n",
    "\n",
    "С помощью бутстрепа постройте 95% доверительный интервал для разности средних температур воздуха при запусках, когда уплотнительные кольца повреждались, и запусках, когда повреждений не было. Чему равна его ближайшая к нулю граница? Округлите до четырёх знаков после запятой.\n",
    "\n",
    "Чтобы получить в точности такой же доверительный интервал, как у нас:\n",
    "\n",
    "* установите random seed = 0 перед первым вызовом функции get_bootstrap_samples, один раз\n",
    "* сделайте по 1000 псевдовыборок из каждой выборки.\n",
    "\n",
    "\n"
   ]
  },
  {
   "cell_type": "code",
   "execution_count": 44,
   "metadata": {},
   "outputs": [],
   "source": [
    "def get_bootstrap_samples(data, n_samples):\n",
    "    indices = np.random.randint(0, len(data), (n_samples, len(data)))\n",
    "    samples = data[indices]\n",
    "    return samples\n",
    "\n",
    "def stat_intervals(stat, alpha):\n",
    "    boundaries = np.percentile(stat, [100 * alpha / 2., 100 * (1 - alpha / 2.)])\n",
    "    return boundaries"
   ]
  },
  {
   "cell_type": "code",
   "execution_count": 45,
   "metadata": {},
   "outputs": [],
   "source": [
    "# columns: [temperature, incident]\n",
    "data = np.loadtxt('challenger.txt', skiprows=1, usecols=(1,2))\n",
    "x1 = data[data[:,1]>0][:,0]\n",
    "x2 = data[data[:,1]==0][:,0]\n",
    "np.random.seed(0)\n",
    "bs_x1 = list(map(np.mean, get_bootstrap_samples(x1, 1000)))\n",
    "bs_x2 = list(map(np.mean, get_bootstrap_samples(x2, 1000)))\n",
    "delta_median = list(x[0] - x[1] for x in zip(bs_x1, bs_x2))"
   ]
  },
  {
   "cell_type": "code",
   "execution_count": 46,
   "metadata": {},
   "outputs": [
    {
     "name": "stdout",
     "output_type": "stream",
     "text": [
      "Confidence interval: [-8.0646, -1.4504]\n"
     ]
    }
   ],
   "source": [
    "print('Confidence interval: [{:.4f}, {:.4f}]'.format(*stat_intervals(delta_median, 0.05)))"
   ]
  },
  {
   "cell_type": "markdown",
   "metadata": {},
   "source": [
    "## Task 7\n",
    "На данных предыдущей задачи проверьте гипотезу об одинаковой средней температуре воздуха в дни, когда уплотнительный кольца повреждались, и дни, когда повреждений не было. Используйте перестановочный критерий и двустороннюю альтернативу. Чему равен достигаемый уровень значимости? Округлите до четырёх знаков после десятичной точки.\n",
    "\n",
    "Чтобы получить такое же значение, как мы:\n",
    "\n",
    "* установите random seed = 0;\n",
    "* возьмите 10000 перестановок."
   ]
  },
  {
   "cell_type": "code",
   "execution_count": 47,
   "metadata": {},
   "outputs": [],
   "source": [
    "def get_random_combinations(n1, n2, max_combinations):\n",
    "    index = list(range(n1 + n2))\n",
    "    indices = set([tuple(index)])\n",
    "    for i in range(max_combinations - 1):\n",
    "        np.random.shuffle(index)\n",
    "        indices.add(tuple(index))\n",
    "    return [(index[:n1], index[n1:]) for index in indices]"
   ]
  },
  {
   "cell_type": "code",
   "execution_count": 48,
   "metadata": {},
   "outputs": [],
   "source": [
    "def permutation_zero_dist_ind(sample1, sample2, max_combinations = None):\n",
    "    joined_sample = np.hstack((sample1, sample2))\n",
    "    n1 = len(sample1)\n",
    "    n = len(joined_sample)\n",
    "    \n",
    "    if max_combinations:\n",
    "        indices = get_random_combinations(n1, len(sample2), max_combinations)\n",
    "    else:\n",
    "        indices = [(list(index), filter(lambda i: i not in index, range(n))) \\\n",
    "                    for index in itertools.combinations(range(n), n1)]\n",
    "    \n",
    "    distr = [joined_sample[list(i[0])].mean() - joined_sample[list(i[1])].mean() \\\n",
    "             for i in indices]\n",
    "    return distr"
   ]
  },
  {
   "cell_type": "code",
   "execution_count": 53,
   "metadata": {},
   "outputs": [
    {
     "data": {
      "image/png": "[encoded data removed]",
      "text/plain": [
       "<Figure size 432x288 with 1 Axes>"
      ]
     },
     "metadata": {
      "needs_background": "light"
     },
     "output_type": "display_data"
    }
   ],
   "source": [
    "plt.hist(permutation_zero_dist_ind(x1, x2, max_combinations=10000), 50)\n",
    "plt.show()"
   ]
  },
  {
   "cell_type": "code",
   "execution_count": 54,
   "metadata": {},
   "outputs": [],
   "source": [
    "def permutation_t_stat_ind(sample1, sample2):\n",
    "    return np.mean(sample1) - np.mean(sample2)"
   ]
  },
  {
   "cell_type": "code",
   "execution_count": 55,
   "metadata": {},
   "outputs": [],
   "source": [
    "def permutation_test(sample, mean, max_permutations = None, alternative = 'two-sided'):\n",
    "    if alternative not in ('two-sided', 'less', 'greater'):\n",
    "        raise ValueError(\"alternative not recognized\\n\"\n",
    "                         \"should be 'two-sided', 'less' or 'greater'\")\n",
    "    \n",
    "    t_stat = permutation_t_stat_ind(sample, mean)\n",
    "    \n",
    "    zero_distr = permutation_zero_dist_ind(sample, mean, max_permutations)\n",
    "    \n",
    "    if alternative == 'two-sided':\n",
    "        return sum([1. if abs(x) >= abs(t_stat) else 0. for x in zero_distr]) / len(zero_distr)\n",
    "    \n",
    "    if alternative == 'less':\n",
    "        return sum([1. if x <= t_stat else 0. for x in zero_distr]) / len(zero_distr)\n",
    "\n",
    "    if alternative == 'greater':\n",
    "        return sum([1. if x >= t_stat else 0. for x in zero_distr]) / len(zero_distr)"
   ]
  },
  {
   "cell_type": "code",
   "execution_count": 69,
   "metadata": {},
   "outputs": [
    {
     "name": "stdout",
     "output_type": "stream",
     "text": [
      "p-value: 0.0057\n"
     ]
    }
   ],
   "source": [
    "np.random.seed(0)\n",
    "print('p-value: {:.4f}'.format(permutation_test(x1, x2, max_permutations=10000)))"
   ]
  }
 ],
 "metadata": {
  "kernelspec": {
   "display_name": "Python 3",
   "language": "python",
   "name": "python3"
  },
  "language_info": {
   "codemirror_mode": {
    "name": "ipython",
    "version": 3
   },
   "file_extension": ".py",
   "mimetype": "text/x-python",
   "name": "python",
   "nbconvert_exporter": "python",
   "pygments_lexer": "ipython3",
   "version": "3.7.6"
  }
 },
 "nbformat": 4,
 "nbformat_minor": 4
}
