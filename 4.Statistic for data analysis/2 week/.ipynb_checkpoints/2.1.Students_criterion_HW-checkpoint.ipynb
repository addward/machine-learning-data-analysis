{
 "cells": [
  {
   "cell_type": "code",
   "execution_count": 1,
   "metadata": {},
   "outputs": [],
   "source": [
    "from scipy import stats"
   ]
  },
  {
   "cell_type": "markdown",
   "metadata": {},
   "source": [
    "## Task 1\n",
    "Пусть t — значение статистики критерия Стьюдента для независимых выборок, nu — соответствующее число степеней свободы. Какая из строчек кода вычисляет достигаемый уровень значимости t-критерия при альтернативе $H_1\\colon \\mu_1>\\mu_2H $?"
   ]
  },
  {
   "cell_type": "markdown",
   "metadata": {},
   "source": [
    "## Answer\n",
    "1 - stats.t.cdf(t, nu)"
   ]
  },
  {
   "cell_type": "markdown",
   "metadata": {},
   "source": [
    "## Task 2\n",
    "Выберите ситуации, в которых допустимо проверять нулевую гипотезу $H_0\\colon \\mu_1=\\mu_2H$ против односторонней альтернативы $H_1\\colon \\mu_1>\\mu_2H $\n",
    "* (-) \n",
    "Случай $\\mu_1<\\mu_2 $\t\n",
    "  нас не интересует: например, если $X_1$ \n",
    "  — это эффективность изобретённого нами лекарства, а $X_2$ \n",
    "  — эффективность плацебо, не в наших интересах брать двустороннюю альтернативу, потому что мы не хотим ненароком показать, что лекарство хуже плацебо\n",
    "* (+) Признаки устроены так, что $\\mu_1<\\mu_2μ $в принципе невозможно\n",
    "* (-) \n",
    "В полученных выборках $\\bar{X}_1>\\bar{X}_2$ "
   ]
  },
  {
   "cell_type": "markdown",
   "metadata": {},
   "source": [
    "## Task 3\n",
    "Выберите верные утверждения о проблеме Беренца-Фишера.\n",
    "* (+) Проблема заключается в том, что не существует точного способа сравнить средние двух выборок с неизвестными дисперсиями\n",
    "* (+) Проблема заключается в том, что при сравнении средних двух выборок с неизвестными дисперсиями нельзя даже приближённо посчитать число степеней свободы у нулевого распределения t-критерия\n",
    "* (-) Приближённое решение проблемы Беренца-Фишера достаточно точно при $n_1=n_2n$\n",
    "* (-) Приближённое решение проблемы Беренца-Фишера достаточно точно при $\\left[n_1>n_2\\right] = \\left[\\sigma_1<\\sigma_2\\right]$"
   ]
  },
  {
   "cell_type": "markdown",
   "metadata": {},
   "source": [
    "## Task 4\n",
    "Уровень кальция в крови здоровых молодых женщин равен в среднем 9.5 милиграммам на децилитр и имеет характерное стандартное отклонение 0.4 мг/дл. В сельской больнице Гватемалы для 160 здоровых беременных женщин при первом обращении для ведения беременности был измерен уровень кальция; среднее значение составило 9.57 мг/дл. Можно ли утверждать, что средний уровень кальция в этой популяции отличается от 9.5?\n",
    "\n",
    "Посчитайте достигаемый уровень значимости. Поскольку известны только среднее и дисперсия, а не сама выборка, нельзя использовать стандартные функции критериев — нужно реализовать формулу достигаемого уровня значимости самостоятельно.\n",
    "\n",
    "Округлите ответ до четырёх знаков после десятичной точки."
   ]
  },
  {
   "cell_type": "markdown",
   "metadata": {},
   "source": [
    "$H_0$ hypothesis is that healthy pregnant women in Guatemala has expected calcium blood level 9.5 mg/dL<br/>\n",
    "Then $\\mathcal{Z}_{statistic}=\\frac{\\bar{x}-9.5}{\\sigma/\\sqrt(n)}$"
   ]
  },
  {
   "cell_type": "code",
   "execution_count": 25,
   "metadata": {},
   "outputs": [
    {
     "name": "stdout",
     "output_type": "stream",
     "text": [
      "2.213594362117875\n",
      "P-value: 0.0269\n"
     ]
    },
    {
     "data": {
      "image/png": "[encoded data removed]",
      "text/plain": [
       "<Figure size 432x288 with 1 Axes>"
      ]
     },
     "metadata": {
      "needs_background": "light"
     },
     "output_type": "display_data"
    }
   ],
   "source": [
    "import numpy as np\n",
    "import matplotlib.pyplot as plt\n",
    "\n",
    "H0 = stats.norm()\n",
    "x = np.linspace(-5, 5, 100)\n",
    "stat = (9.57 - 9.5) / 0.4 * np.sqrt(160)\n",
    "print(stat)\n",
    "plt.plot(x, H0.pdf(x))\n",
    "alt_greater = np.linspace(stat, 5, 100)\n",
    "alt_lower   = np.linspace(-5, -stat, 100)\n",
    "\n",
    "plt.fill_between(alt_greater, \n",
    "                 np.zeros_like(alt_greater), \n",
    "                 H0.pdf(alt_greater), facecolor='red', alpha=1)\n",
    "\n",
    "plt.fill_between(alt_lower, \n",
    "                 np.zeros_like(alt_lower), \n",
    "                 H0.pdf(alt_lower), facecolor='red', alpha=1)\n",
    "\n",
    "print('P-value: {:.4f}'.format(2 *(1 - H0.cdf(stat))))"
   ]
  },
  {
   "cell_type": "markdown",
   "metadata": {},
   "source": [
    "## Task 5\n",
    "Как вы считаете, это отличие в среднем уровне кальция в крови практически значимо?"
   ]
  },
  {
   "cell_type": "markdown",
   "metadata": {},
   "source": [
    "## Answer\n",
    "* (-) Нет, раз критерий Стьюдента говорит, что отличие незначимо\n",
    "* (-) Да, раз критерий Стьюдента говорит, что отличие значимо\n",
    "* (+) Скорее всего нет: стандартное отклонение уровня в популяции намного больше полученного различия между средними"
   ]
  },
  {
   "cell_type": "markdown",
   "metadata": {},
   "source": [
    "## Task 6\n",
    "Имеются данные о стоимости и размерах 53940 бриллиантов:\n",
    "* diamonds.txt\n",
    "\n",
    "Отделите 25% случайных наблюдений в тестовую выборку с помощью функции sklearn.cross_validation.train_test_split (зафиксируйте random state = 1). На обучающей выборке настройте две регрессионные модели:\n",
    "\n",
    "1) линейную регрессию с помощью LinearRegression без параметров\n",
    "\n",
    "2) случайный лес из 10 деревьев с помощью RandomForestRegressor с random_state=1.\n",
    "\n",
    "Какая из моделей лучше предсказывает цену бриллиантов? Сделайте предсказания на тестовой выборке, посчитайте модули отклонений предсказаний от истинных цен. Проверьте гипотезу об одинаковом среднем качестве предсказаний, вычислите достигаемый уровень значимости. Отвергается ли гипотеза об одинаковом качестве моделей против двусторонней альтернативы на уровне значимости $\\alpha=0.05, α=0.05$?\n",
    "\n"
   ]
  },
  {
   "cell_type": "code",
   "execution_count": 47,
   "metadata": {},
   "outputs": [],
   "source": [
    "#columns : [carat, depth, table, price, x, y, z]\n",
    "from sklearn.model_selection import train_test_split\n",
    "data = np.loadtxt('diamonds.txt', skiprows=1)\n",
    "x = data[:, [0, 1, 2, 4, 5, 6]]\n",
    "y = data[:, 3]\n",
    "x_train, x_test, y_train, y_test = train_test_split(x, y, test_size=0.25, random_state=1)"
   ]
  },
  {
   "cell_type": "code",
   "execution_count": 48,
   "metadata": {},
   "outputs": [
    {
     "data": {
      "text/plain": [
       "((40455, 6), (13485, 6))"
      ]
     },
     "execution_count": 48,
     "metadata": {},
     "output_type": "execute_result"
    }
   ],
   "source": [
    "x_train.shape, x_test.shape"
   ]
  },
  {
   "cell_type": "code",
   "execution_count": 76,
   "metadata": {},
   "outputs": [],
   "source": [
    "from sklearn.linear_model import LinearRegression\n",
    "from sklearn.ensemble import RandomForestRegressor\n",
    "\n",
    "lr = LinearRegression()\n",
    "lr.fit(x_train, y_train)\n",
    "lr_pred = lr.predict(x_test)\n",
    "\n",
    "rf = RandomForestRegressor(n_estimators=10, random_state=1)\n",
    "rf.fit(x_train, y_train)\n",
    "rf_pred = rf.predict(x_test)"
   ]
  },
  {
   "cell_type": "code",
   "execution_count": 77,
   "metadata": {},
   "outputs": [
    {
     "data": {
      "text/plain": [
       "((array([-3.88388616, -3.66274206, -3.54151337, ...,  3.54151337,\n",
       "          3.66274206,  3.88388616]),\n",
       "  array([-3568.79946375, -1511.23411233, -1034.92222721, ...,\n",
       "         23339.04346425, 25179.6757726 , 36770.84636008])),\n",
       " (3380.746838290979, 3932.5604181902795, 0.9328670912752911))"
      ]
     },
     "execution_count": 77,
     "metadata": {},
     "output_type": "execute_result"
    },
    {
     "data": {
      "image/png": "[encoded data removed]",
      "text/plain": [
       "<Figure size 432x288 with 1 Axes>"
      ]
     },
     "metadata": {
      "needs_background": "light"
     },
     "output_type": "display_data"
    }
   ],
   "source": [
    "stats.probplot(lr_pred, dist='norm', plot=plt)"
   ]
  },
  {
   "cell_type": "code",
   "execution_count": 93,
   "metadata": {},
   "outputs": [],
   "source": [
    "lr_deviation = np.abs(lr_pred - y_test)\n",
    "rf_deviation = np.abs(rf_pred - y_test)"
   ]
  },
  {
   "cell_type": "code",
   "execution_count": 91,
   "metadata": {},
   "outputs": [
    {
     "data": {
      "text/plain": [
       "(12006725.759779215, 10827383.17541847)"
      ]
     },
     "execution_count": 91,
     "metadata": {},
     "output_type": "execute_result"
    }
   ],
   "source": [
    "np.abs(lr_deviation).sum(),np.abs(rf_deviation).sum()"
   ]
  },
  {
   "cell_type": "code",
   "execution_count": 95,
   "metadata": {},
   "outputs": [
    {
     "data": {
      "text/plain": [
       "Ttest_relResult(statistic=13.017729783879505, pvalue=1.6551745751211468e-38)"
      ]
     },
     "execution_count": 95,
     "metadata": {},
     "output_type": "execute_result"
    }
   ],
   "source": [
    "stats.ttest_rel(lr_deviation, rf_deviation)"
   ]
  },
  {
   "cell_type": "code",
   "execution_count": 61,
   "metadata": {},
   "outputs": [
    {
     "data": {
      "text/plain": [
       "(12006725.759779215, 10827383.17541847)"
      ]
     },
     "execution_count": 61,
     "metadata": {},
     "output_type": "execute_result"
    }
   ],
   "source": [
    "lr_deviation, rf_deviation"
   ]
  },
  {
   "cell_type": "code",
   "execution_count": 96,
   "metadata": {},
   "outputs": [],
   "source": [
    "import statsmodels"
   ]
  },
  {
   "cell_type": "code",
   "execution_count": null,
   "metadata": {},
   "outputs": [],
   "source": []
  }
 ],
 "metadata": {
  "kernelspec": {
   "display_name": "Python 3",
   "language": "python",
   "name": "python3"
  },
  "language_info": {
   "codemirror_mode": {
    "name": "ipython",
    "version": 3
   },
   "file_extension": ".py",
   "mimetype": "text/x-python",
   "name": "python",
   "nbconvert_exporter": "python",
   "pygments_lexer": "ipython3",
   "version": "3.7.6"
  }
 },
 "nbformat": 4,
 "nbformat_minor": 4
}
