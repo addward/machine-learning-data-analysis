{
 "cells": [
  {
   "cell_type": "code",
   "execution_count": 34,
   "metadata": {},
   "outputs": [],
   "source": [
    "from scipy import stats"
   ]
  },
  {
   "cell_type": "markdown",
   "metadata": {},
   "source": [
    "## Task 1\n",
    "Существуют две версии одновыборочного Z-критерия для доли, отличающихся формулами для статистики. Одна из этих версий более точная, поэтому мы говорили только о ней, а вторую не обсуждали вообще. Какую из этих двух версий одновыборочных Z-критериев для доли мы проходили?"
   ]
  },
  {
   "cell_type": "markdown",
   "metadata": {},
   "source": [
    "## Answer\n",
    "\n",
    "* (+) Версия множителей Лагранжа со статистикой $Z=\\frac{\\hat{p}-p_0}{\\sqrt{\\frac{p_0\\left(1-p_0\\right)}{n}}}$\n",
    "* (-) Версия Вальда со статистикой $Z=\\frac{\\hat{p}-p_0}{\\sqrt{\\frac{\\hat{p}\\left(1-\\hat{p}\\right)}{n}}}$"
   ]
  },
  {
   "cell_type": "markdown",
   "metadata": {},
   "source": [
    "## Task 2\n",
    "Z-критерий для двух долей в связанных выборках использует только информацию о:"
   ]
  },
  {
   "cell_type": "markdown",
   "metadata": {},
   "source": [
    "## Answer\n",
    "* (+) количестве несовпадающих пар значений признаков — (0,1)(0,1) и (1,0)(1,0), и объёме выборок n\n",
    "* (-) количестве несовпадающих пар значений признаков — (0,1)(0,1) и (1,0)(1,0), и порядке их появления\n",
    "* (-) количестве единиц в каждой из выборок и их объёме nn\n",
    "* (-) количестве совпадающих пар значений признаков — (0,0)(0,0) и (1,1)(1,1), и объёме выборок n"
   ]
  },
  {
   "cell_type": "markdown",
   "metadata": {},
   "source": [
    "## Task 3\n",
    "В одном из выпусков программы \"Разрушители легенд\" проверялось, действительно ли заразительна зевота. В эксперименте участвовало 50 испытуемых, проходивших собеседование на программу. Каждый из них разговаривал с рекрутером; в конце 34 из 50 бесед рекрутер зевал. Затем испытуемых просили подождать решения рекрутера в соседней пустой комнате.\n",
    "\n",
    "Во время ожидания 10 из 34 испытуемых экспериментальной группы и 4 из 16 испытуемых контрольной начали зевать. Таким образом, разница в доле зевающих людей в этих двух группах составила примерно 4.4%. Ведущие заключили, что миф о заразительности зевоты подтверждён.\n",
    "\n",
    "Можно ли утверждать, что доли зевающих в контрольной и экспериментальной группах отличаются статистически значимо? Посчитайте достигаемый уровень значимости при альтернативе заразительности зевоты, округлите до четырёх знаков после десятичной точки."
   ]
  },
  {
   "cell_type": "markdown",
   "metadata": {},
   "source": [
    "## Answer\n",
    "Statistic: $Z=\\frac{\\hat{p}_1−\\hat{p}_2}{\\sqrt{P(1-P)(\\frac{1}{n_1}+\\frac{1}{n_2})}}, P=\\frac{\\hat{p}_1 n_1−\\hat{p}_2 n_2}{n_1+n_2}$<br/>\n",
    "p1 - experimental group<br/>\n",
    "p2 - test group"
   ]
  },
  {
   "cell_type": "code",
   "execution_count": 173,
   "metadata": {},
   "outputs": [
    {
     "name": "stdout",
     "output_type": "stream",
     "text": [
      "0.4478110755198992\n"
     ]
    }
   ],
   "source": [
    "import numpy as np\n",
    "\n",
    "p1 = 10 / 34\n",
    "n1 = 34.\n",
    "p2 = 4 / 16\n",
    "n2 = 16.\n",
    "\n",
    "p = (p1*n1 - p2*n2) / (n1 + n2)\n",
    "stat = (p1 - p2) / np.sqrt(p*(1-p)*(1/n1 + 1/n2))\n",
    "print(stat)"
   ]
  },
  {
   "cell_type": "markdown",
   "metadata": {},
   "source": [
    "## Answer"
   ]
  },
  {
   "cell_type": "code",
   "execution_count": 174,
   "metadata": {},
   "outputs": [
    {
     "name": "stdout",
     "output_type": "stream",
     "text": [
      "0.3271\n"
     ]
    }
   ],
   "source": [
    "print('{:.4f}'.format((1 - stats.norm.cdf(stat))))"
   ]
  },
  {
   "cell_type": "markdown",
   "metadata": {},
   "source": [
    "## Task 4\n",
    "Имеются данные измерений двухсот швейцарских тысячефранковых банкнот, бывших в обращении в первой половине XX века. Сто из банкнот были настоящими, и сто — поддельными. На рисунке ниже показаны измеренные признаки:\n",
    "<img src=\"back_horizontal.jpg\">\n",
    "Загрузите данные:<br/><br/>\n",
    "**banknotes.txt<br/><br/>**\n",
    "Отделите 50 случайных наблюдений в тестовую выборку с помощью функции sklearn.cross_validation.train_test_split (зафиксируйте random state = 1). На оставшихся 150 настройте два классификатора поддельности банкнот:\n",
    "\n",
    "логистическая регрессия по признакам $X_1,X_2,X_3$<br/>\n",
    "логистическая регрессия по признакам $X_4,X_5,X_6$<br/>\n",
    "Каждым из классификаторов сделайте предсказания меток классов на тестовой выборке. Одинаковы ли доли ошибочных предсказаний двух классификаторов? Проверьте гипотезу, вычислите достигаемый уровень значимости. Введите номер первой значащей цифры (например, если вы получили $5.5\\times10^{-8}$ , нужно ввести 8).\n",
    "\n"
   ]
  },
  {
   "cell_type": "markdown",
   "metadata": {},
   "source": [
    "Columns: [X1,X2,X3,X4,X5,X6,real]"
   ]
  },
  {
   "cell_type": "code",
   "execution_count": 37,
   "metadata": {},
   "outputs": [],
   "source": [
    "from sklearn.model_selection import train_test_split\n",
    "data = np.loadtxt('banknotes.txt', skiprows=1)\n",
    "x_data = data[:, [0, 1, 2, 3, 4, 5]]\n",
    "y_data = data[:, 6]\n",
    "X_train, X_test, y_train, y_test = train_test_split(x_data, y_data, test_size=0.25,random_state=1)"
   ]
  },
  {
   "cell_type": "code",
   "execution_count": 38,
   "metadata": {},
   "outputs": [
    {
     "data": {
      "text/plain": [
       "((150, 6), (50, 6))"
      ]
     },
     "execution_count": 38,
     "metadata": {},
     "output_type": "execute_result"
    }
   ],
   "source": [
    "X_train.shape, X_test.shape"
   ]
  },
  {
   "cell_type": "code",
   "execution_count": 149,
   "metadata": {},
   "outputs": [],
   "source": [
    "from sklearn.linear_model import LogisticRegression\n",
    "idx_1 = [0, 1, 2]\n",
    "idx_2 = [3, 4, 5]\n",
    "lr_1 = LogisticRegression(multi_class='ovr', n_jobs=1, solver='liblinear')\n",
    "lr_2 = LogisticRegression(multi_class='ovr', n_jobs=1, solver='liblinear')\n",
    "\n",
    "lr_1.fit(X_train[:, idx_1], y_train[:])\n",
    "lr_2.fit(X_train[:, idx_2], y_train[:])\n",
    "\n",
    "pred_1 = lr_1.predict(X_test[:, idx_1])\n",
    "pred_2 = lr_2.predict(X_test[:, idx_2])"
   ]
  },
  {
   "cell_type": "code",
   "execution_count": 150,
   "metadata": {},
   "outputs": [
    {
     "name": "stdout",
     "output_type": "stream",
     "text": [
      "first error rate: 0.2000\n",
      "second error rate: 0.0200\n"
     ]
    }
   ],
   "source": [
    "err_1 = np.logical_xor(pred_1 > 0.5, y_test)\n",
    "err_2 = np.logical_xor(pred_2 > 0.5, y_test)\n",
    "print('first error rate: {:.4f}\\nsecond error rate: {:.4f}'.format(err_1.sum()/len(err_1), err_2.sum()/len(err_2)))"
   ]
  },
  {
   "cell_type": "markdown",
   "metadata": {},
   "source": [
    "## Answer\n",
    "Statistic for dependent proportions $\\hat{p}_1, \\hat{p}_2$: $Z=\\frac{f-g}{\\sqrt{f+g-\\frac{(f-g)^2}{n}}}$"
   ]
  },
  {
   "cell_type": "code",
   "execution_count": 164,
   "metadata": {},
   "outputs": [
    {
     "name": "stdout",
     "output_type": "stream",
     "text": [
      "Statistic value: 2.9386\n"
     ]
    }
   ],
   "source": [
    "f = np.logical_and(err_1 == 1, err_2 == 0).sum()\n",
    "g = np.logical_and(err_1 == 0, err_2 == 1).sum()\n",
    "n = len(pred_1)\n",
    "\n",
    "stat = (f - g) / np.sqrt(f+g-(f-g)**2/n)\n",
    "\n",
    "p_value = 2*(1 - stats.norm.cdf(np.abs(stat)))\n",
    "\n",
    "print('Statistic value: {:.4f}'.format(stat))"
   ]
  },
  {
   "cell_type": "code",
   "execution_count": 163,
   "metadata": {},
   "outputs": [
    {
     "name": "stdout",
     "output_type": "stream",
     "text": [
      "p_value: 0.003297\n"
     ]
    }
   ],
   "source": [
    "print(\"p_value: {:.4}\".format(p_value))"
   ]
  },
  {
   "cell_type": "markdown",
   "metadata": {},
   "source": [
    "## Task 5\n",
    "В предыдущей задаче посчитайте 95% доверительный интервал для разности долей ошибок двух классификаторов. Чему равна его ближайшая к нулю граница? Округлите до четырёх знаков после десятичной точки."
   ]
  },
  {
   "cell_type": "markdown",
   "metadata": {},
   "source": [
    "## Answer\n",
    "$\\hat{p}_1$ and $\\hat{p}_2$ are dependent so confidence interval is equal:<br/>\n",
    "$\\frac{f - g}{n}\\pm\\mathcal{z}_{1-\\frac{\\alpha}{2}}\\sqrt{\\frac{f+g}{n^2}-\\frac{(f-g)^2}{n^3}}$"
   ]
  },
  {
   "cell_type": "code",
   "execution_count": 167,
   "metadata": {},
   "outputs": [
    {
     "name": "stdout",
     "output_type": "stream",
     "text": [
      "Confidence interval for ratio: [0.0599,0.3001]\n"
     ]
    }
   ],
   "source": [
    "dp = stats.norm.ppf(1 - 0.05/2)*np.sqrt((f + g) / n**2 - (f - g)**2 / n**3)\n",
    "\n",
    "print('Confidence interval for ratio: [{:.4f},{:.4f}]'.format((f - g)/n - dp, (f - g)/n + dp))"
   ]
  },
  {
   "cell_type": "markdown",
   "metadata": {},
   "source": [
    "## Task 6\n",
    "Ежегодно более 200'000 людей по всему миру сдают стандартизированный экзамен GMAT при поступлении на программы MBA. Средний результат составляет 525 баллов, стандартное отклонение — 100 баллов.\n",
    "\n",
    "Сто студентов закончили специальные подготовительные курсы и сдали экзамен. Средний полученный ими балл — 541.4. Проверьте гипотезу о неэффективности программы против односторонней альтернативы о том, что программа работает. Отвергается ли на уровне значимости 0.05 нулевая гипотеза? Введите достигаемый уровень значимости, округлённый до 4 знаков после десятичной точки.\n",
    "\n"
   ]
  },
  {
   "cell_type": "markdown",
   "metadata": {},
   "source": [
    "## Answer\n",
    "Lets use Z critereon<br/>\n",
    "Null hypothesis: $\\mu = \\mu_0$<br/>\n",
    "Alternative: $\\mu > \\mu_0$ <br/>\n",
    "Statistic: $T(X^n)=\\frac{\\bar{X}-\\mu_0}{\\sigma/\\sqrt(n)}$<br/>\n",
    "$X\\sim\\mathcal{N}(0,1)$"
   ]
  },
  {
   "cell_type": "code",
   "execution_count": 168,
   "metadata": {},
   "outputs": [],
   "source": [
    "mu = 525\n",
    "s = 100\n",
    "n = 100\n",
    "x_mean = 541.4\n",
    "alpha = 0.05\n",
    "stat = (x_mean - mu) / (s / np.sqrt(n))"
   ]
  },
  {
   "cell_type": "code",
   "execution_count": 169,
   "metadata": {},
   "outputs": [
    {
     "data": {
      "text/plain": [
       "<matplotlib.collections.PolyCollection at 0x2a344d49388>"
      ]
     },
     "execution_count": 169,
     "metadata": {},
     "output_type": "execute_result"
    },
    {
     "data": {
      "image/png": "[encoded data removed]",
      "text/plain": [
       "<Figure size 432x288 with 1 Axes>"
      ]
     },
     "metadata": {
      "needs_background": "light"
     },
     "output_type": "display_data"
    }
   ],
   "source": [
    "import matplotlib.pyplot as plt\n",
    "\n",
    "x = np.linspace(-4, 4, 50)\n",
    "plt.plot(x, stats.norm.pdf(x))\n",
    "alt = np.linspace(stat, 4, 50)\n",
    "plt.fill_between(alt, stats.norm.pdf(alt), color='red', alpha = 0.2)"
   ]
  },
  {
   "cell_type": "code",
   "execution_count": 170,
   "metadata": {},
   "outputs": [
    {
     "name": "stdout",
     "output_type": "stream",
     "text": [
      "p-value: 0.0505\n"
     ]
    }
   ],
   "source": [
    "print('p-value: {:.4f}'.format(1 - stats.norm.cdf(stat)))"
   ]
  },
  {
   "cell_type": "markdown",
   "metadata": {},
   "source": [
    "## Task 7\n",
    "Оцените теперь эффективность подготовительных курсов, средний балл 100 выпускников которых равен 541.5. Отвергается ли на уровне значимости 0.05 та же самая нулевая гипотеза против той же самой альтернативы? Введите достигаемый уровень значимости, округлённый до 4 знаков после десятичной точки."
   ]
  },
  {
   "cell_type": "code",
   "execution_count": 171,
   "metadata": {},
   "outputs": [
    {
     "name": "stdout",
     "output_type": "stream",
     "text": [
      "p-value: 0.0495\n"
     ]
    }
   ],
   "source": [
    "x_mean = 541.5\n",
    "stat = (x_mean - mu) / (s / np.sqrt(n))\n",
    "print('p-value: {:.4f}'.format(1 - stats.norm.cdf(stat)))"
   ]
  }
 ],
 "metadata": {
  "kernelspec": {
   "display_name": "Python 3",
   "language": "python",
   "name": "python3"
  },
  "language_info": {
   "codemirror_mode": {
    "name": "ipython",
    "version": 3
   },
   "file_extension": ".py",
   "mimetype": "text/x-python",
   "name": "python",
   "nbconvert_exporter": "python",
   "pygments_lexer": "ipython3",
   "version": "3.7.6"
  }
 },
 "nbformat": 4,
 "nbformat_minor": 4
}
