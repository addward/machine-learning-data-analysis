{
 "cells": [
  {
   "cell_type": "code",
   "execution_count": 43,
   "metadata": {},
   "outputs": [],
   "source": [
    "from sklearn.cluster import MeanShift\n",
    "import pandas as pd"
   ]
  },
  {
   "cell_type": "markdown",
   "metadata": {},
   "source": [
    "Checkins.dat from Foursqare's dataset can be found here:\n",
    "https://archive.org/details/201309_foursquare_dataset_umn\n",
    "<br>\n",
    "This dataset marks the checkins (visits) of users at venues. Each check-in has a unique id as well as the user id and the venue id. All data were collected in time period 2011 - 2012."
   ]
  },
  {
   "cell_type": "code",
   "execution_count": 29,
   "metadata": {},
   "outputs": [
    {
     "data": {
      "text/html": [
       "<div>\n",
       "<style scoped>\n",
       "    .dataframe tbody tr th:only-of-type {\n",
       "        vertical-align: middle;\n",
       "    }\n",
       "\n",
       "    .dataframe tbody tr th {\n",
       "        vertical-align: top;\n",
       "    }\n",
       "\n",
       "    .dataframe thead th {\n",
       "        text-align: right;\n",
       "    }\n",
       "</style>\n",
       "<table border=\"1\" class=\"dataframe\">\n",
       "  <thead>\n",
       "    <tr style=\"text-align: right;\">\n",
       "      <th></th>\n",
       "      <th>id</th>\n",
       "      <th>user_id</th>\n",
       "      <th>venue_id</th>\n",
       "      <th>latitude</th>\n",
       "      <th>longitude</th>\n",
       "      <th>created_at</th>\n",
       "    </tr>\n",
       "  </thead>\n",
       "  <tbody>\n",
       "    <tr>\n",
       "      <th>0</th>\n",
       "      <td>984301</td>\n",
       "      <td>2041916</td>\n",
       "      <td>5222</td>\n",
       "      <td>NaN</td>\n",
       "      <td>NaN</td>\n",
       "      <td>2012-04-21 17:39:01</td>\n",
       "    </tr>\n",
       "    <tr>\n",
       "      <th>1</th>\n",
       "      <td>984222</td>\n",
       "      <td>15824</td>\n",
       "      <td>5222</td>\n",
       "      <td>38.895112</td>\n",
       "      <td>-77.036366</td>\n",
       "      <td>2012-04-21 17:43:47</td>\n",
       "    </tr>\n",
       "    <tr>\n",
       "      <th>2</th>\n",
       "      <td>984315</td>\n",
       "      <td>1764391</td>\n",
       "      <td>5222</td>\n",
       "      <td>NaN</td>\n",
       "      <td>NaN</td>\n",
       "      <td>2012-04-21 17:37:18</td>\n",
       "    </tr>\n",
       "    <tr>\n",
       "      <th>3</th>\n",
       "      <td>984234</td>\n",
       "      <td>44652</td>\n",
       "      <td>5222</td>\n",
       "      <td>33.800745</td>\n",
       "      <td>-84.410520</td>\n",
       "      <td>2012-04-21 17:43:43</td>\n",
       "    </tr>\n",
       "    <tr>\n",
       "      <th>4</th>\n",
       "      <td>984249</td>\n",
       "      <td>2146840</td>\n",
       "      <td>5222</td>\n",
       "      <td>NaN</td>\n",
       "      <td>NaN</td>\n",
       "      <td>2012-04-21 17:42:58</td>\n",
       "    </tr>\n",
       "  </tbody>\n",
       "</table>\n",
       "</div>"
      ],
      "text/plain": [
       "   id      user_id   venue_id   latitude        longitude       \\\n",
       "0  984301   2041916       5222             NaN             NaN   \n",
       "1  984222     15824       5222       38.895112      -77.036366   \n",
       "2  984315   1764391       5222             NaN             NaN   \n",
       "3  984234     44652       5222       33.800745      -84.410520   \n",
       "4  984249   2146840       5222             NaN             NaN   \n",
       "\n",
       "      created_at        \n",
       "0  2012-04-21 17:39:01  \n",
       "1  2012-04-21 17:43:47  \n",
       "2  2012-04-21 17:37:18  \n",
       "3  2012-04-21 17:43:43  \n",
       "4  2012-04-21 17:42:58  "
      ]
     },
     "execution_count": 29,
     "metadata": {},
     "output_type": "execute_result"
    }
   ],
   "source": [
    "checkins = pd.read_csv(\"checkins.dat\", sep='|')\n",
    "che"
   ]
  },
  {
   "cell_type": "markdown",
   "metadata": {},
   "source": [
    "Remove space at the end and begining of the column names"
   ]
  },
  {
   "cell_type": "code",
   "execution_count": 32,
   "metadata": {},
   "outputs": [],
   "source": [
    "checkins.columns = checkins.columns.str.strip()"
   ]
  },
  {
   "cell_type": "markdown",
   "metadata": {},
   "source": [
    "Remove all rows with unrepresented latitude and longitude "
   ]
  },
  {
   "cell_type": "code",
   "execution_count": 41,
   "metadata": {},
   "outputs": [],
   "source": [
    "checkins = checkins[checkins['latitude'].notna() & checkins['longitude'].notna()]"
   ]
  },
  {
   "cell_type": "markdown",
   "metadata": {},
   "source": [
    "Lets take first 100'000 rows of data and apply the MeanShift method with bandwidth = 0.1 (thats approx equal to 7 km)"
   ]
  },
  {
   "cell_type": "code",
   "execution_count": 231,
   "metadata": {},
   "outputs": [],
   "source": [
    "checkins = checkins.iloc[:100000,:]\n",
    "checkins = checkins[['latitude', 'longitude']]"
   ]
  },
  {
   "cell_type": "code",
   "execution_count": 158,
   "metadata": {},
   "outputs": [],
   "source": [
    "model = MeanShift(bandwidth = 0.1)\n",
    "predictions = model.fit_predict(checkins)"
   ]
  },
  {
   "cell_type": "code",
   "execution_count": 382,
   "metadata": {},
   "outputs": [],
   "source": [
    "result = checkins.copy()\n",
    "result['billNum'] = predictions"
   ]
  },
  {
   "cell_type": "markdown",
   "metadata": {},
   "source": [
    "Remove all clusters with less than 16 elements"
   ]
  },
  {
   "cell_type": "code",
   "execution_count": 388,
   "metadata": {},
   "outputs": [],
   "source": [
    "clusterSize = result['billNum'].value_counts().sort_index()\n",
    "clusterCenters = pd.DataFrame(clusterSize)\n",
    "clusterCenters['latitude'] = model.cluster_centers_[:,0]\n",
    "clusterCenters['longitude'] = model.cluster_centers_[:,1]"
   ]
  },
  {
   "cell_type": "code",
   "execution_count": 390,
   "metadata": {},
   "outputs": [],
   "source": [
    "clusterCenters = clusterCenters[clusterCenters['billNum'] > 15].copy()"
   ]
  },
  {
   "cell_type": "markdown",
   "metadata": {},
   "source": [
    "Find distances to the offices"
   ]
  },
  {
   "cell_type": "code",
   "execution_count": 392,
   "metadata": {},
   "outputs": [],
   "source": [
    "off1 = ['Los Angeles', (33.751277, -118.188740)] # (Los Angeles)\n",
    "off2 = ['Miami',       (25.867736, -80.324116)]  # (Miami)\n",
    "off3 = ['London',      (51.503016, -0.075479)]   # (London)\n",
    "off4 = ['Amsterdam',   (52.378894, 4.885084)]    # (Amsterdam)\n",
    "off5 = ['Beijing',     (39.366487, 117.036146)]  # (Beijing)\n",
    "off6 = ['Sydney',      (-33.868457, 151.205134)] # (Sydney)\n",
    "offices = [off1, off2, off3, off4, off5, off6]\n",
    "distancesToOffices = pd.DataFrame()"
   ]
  },
  {
   "cell_type": "code",
   "execution_count": 393,
   "metadata": {},
   "outputs": [],
   "source": [
    "for name, coords in offices:\n",
    "    distancesToOffices[name] = ((clusterCenters['latitude'] - coords[0]) ** 2 + (clusterCenters['longitude'] - coords[1]) ** 2) ** 0.5\n"
   ]
  },
  {
   "cell_type": "code",
   "execution_count": 394,
   "metadata": {},
   "outputs": [],
   "source": [
    "distancesToOffices['min'] = distancesToOffices.min(axis=1)\n",
    "clusterCenters['minDistance'] = distancesToOffices['min']\n",
    "clusterCenters.sort_values(['minDistance'], inplace = True)"
   ]
  },
  {
   "cell_type": "markdown",
   "metadata": {},
   "source": [
    "Lets find 20 billboard places that is the closest to the offices"
   ]
  },
  {
   "cell_type": "code",
   "execution_count": 395,
   "metadata": {},
   "outputs": [],
   "source": [
    "finalPlaces = clusterCenters.iloc[:20,:]"
   ]
  },
  {
   "cell_type": "code",
   "execution_count": 397,
   "metadata": {},
   "outputs": [],
   "source": [
    "f = open('1_clustering_billboards_answer.txt','w')\n",
    "f.write(\"{} {}\".format(finalPlaces.iloc[0]['latitude'], finalPlaces.iloc[0]['longitude']))\n",
    "f.close()"
   ]
  },
  {
   "cell_type": "markdown",
   "metadata": {},
   "source": [
    "Final visualization of billboard distribution can be found here: https://www.mapcustomizer.com/map/Billboards%20and%20offices%20clusterization"
   ]
  }
 ],
 "metadata": {
  "kernelspec": {
   "display_name": "Python 2",
   "language": "python",
   "name": "python2"
  },
  "language_info": {
   "codemirror_mode": {
    "name": "ipython",
    "version": 2
   },
   "file_extension": ".py",
   "mimetype": "text/x-python",
   "name": "python",
   "nbconvert_exporter": "python",
   "pygments_lexer": "ipython2",
   "version": "2.7.10"
  }
 },
 "nbformat": 4,
 "nbformat_minor": 2
}
